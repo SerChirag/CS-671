{
 "cells": [
  {
   "cell_type": "code",
   "execution_count": null,
   "metadata": {},
   "outputs": [],
   "source": [
    "import tensorflow as tf\n",
    "import numpy as np\n",
    "mnist = tf.keras.datasets.mnist\n",
    "from layer import *\n",
    "from model import *\n",
    "%matplotlib inline\n",
    "import matplotlib\n",
    "import matplotlib.pyplot as plt"
   ]
  },
  {
   "cell_type": "code",
   "execution_count": null,
   "metadata": {},
   "outputs": [],
   "source": [
    "(x_train, y_train_label),(x_test, y_test_label) = mnist.load_data()\n",
    "x_train, x_test = x_train / 255.0, x_test / 255.0"
   ]
  },
  {
   "cell_type": "code",
   "execution_count": null,
   "metadata": {},
   "outputs": [],
   "source": [
    "x_train = x_train.reshape([60000,784])\n",
    "x_test = x_test.reshape([10000,784])\n",
    "y_train = np.zeros((y_train_label.shape[0], 10))\n",
    "y_train[np.arange(y_train_label.shape[0]), y_train_label] = 1\n",
    "y_test = np.zeros((y_test_label.shape[0], 10))\n",
    "y_test[np.arange(y_test_label.shape[0]), y_test_label] = 1"
   ]
  },
  {
   "cell_type": "code",
   "execution_count": null,
   "metadata": {},
   "outputs": [],
   "source": [
    "## Classifier without Dropout\n",
    "\n",
    "nn = model(x_train,y_train,10,alpha=0.001,accuracy=0.99)\n",
    "layer1 = layer(784,196)\n",
    "layer2 = layer(196,58)\n",
    "layer3 = layer(58,10,activation='softmax')\n",
    "nn.add(layer1)\n",
    "nn.add(layer2)\n",
    "nn.add(layer3)\n",
    "nn.train()\n",
    "nn.predict(x_test,y_test)"
   ]
  },
  {
   "cell_type": "code",
   "execution_count": null,
   "metadata": {},
   "outputs": [],
   "source": [
    "## Classifier with Dropout\n",
    "\n",
    "mm = model(x_train,y_train,10,alpha=0.001,accuracy=0.93)\n",
    "mayer1 = layer(784,196,dropout=True,keep_prob=0.75)\n",
    "mayer2 = layer(196,58,dropout=True,keep_prob=0.9)\n",
    "mayer3 = layer(58,10,activation='softmax')\n",
    "mm.add(mayer1)\n",
    "mm.add(mayer2)\n",
    "mm.add(mayer3)\n",
    "mm.train()\n",
    "nn.predict(x_test,y_test)"
   ]
  },
  {
   "cell_type": "code",
   "execution_count": null,
   "metadata": {},
   "outputs": [],
   "source": [
    "mm.predict(x_test,y_test)"
   ]
  },
  {
   "cell_type": "code",
   "execution_count": null,
   "metadata": {},
   "outputs": [],
   "source": [
    "fig = plt.figure()\n",
    "plt.plot(nn.accuracy_history[:15],label='No Droupout')\n",
    "plt.plot(mm.accuracy_history,label='Droupout')\n",
    "fig.suptitle('Training Accuracy vs Epochs', fontsize=20)\n",
    "fig.legend(loc='lower right')\n",
    "plt.xlabel('Number of epochs', fontsize=12)\n",
    "plt.ylabel('Training Accuracy', fontsize=12)"
   ]
  },
  {
   "cell_type": "code",
   "execution_count": null,
   "metadata": {},
   "outputs": [],
   "source": [
    "fig = plt.figure()\n",
    "plt.plot(mm.loss_history)\n",
    "fig.suptitle('Loss vs Epochs', fontsize=20)\n",
    "plt.xlabel('Number of epochs', fontsize=12)\n",
    "plt.ylabel('Loss', fontsize=12)"
   ]
  },
  {
   "cell_type": "code",
   "execution_count": null,
   "metadata": {},
   "outputs": [],
   "source": [
    "#Classifier with RMS Prop\n",
    "\n",
    "mm = model(x_train,y_train,10,alpha=0.001,accuracy=0.99,optimizer='RMS')\n",
    "mayer1 = layer(784,196)\n",
    "mayer2 = layer(196,58)\n",
    "mayer3 = layer(58,10,activation='softmax')\n",
    "mm.add(mayer1)\n",
    "mm.add(mayer2)\n",
    "mm.add(mayer3)\n",
    "mm.train()"
   ]
  },
  {
   "cell_type": "code",
   "execution_count": null,
   "metadata": {},
   "outputs": [],
   "source": [
    "fig = plt.figure()\n",
    "plt.plot(nn.accuracy_history[:15],label='Gradient Descent')\n",
    "plt.plot(mm.accuracy_history,label='RMS Prop')\n",
    "fig.suptitle('Training Accuracy vs Epochs', fontsize=20)\n",
    "fig.legend(loc='lower right')\n",
    "plt.xlabel('Number of epochs', fontsize=12)\n",
    "plt.ylabel('Training Accuracy', fontsize=12)"
   ]
  },
  {
   "cell_type": "code",
   "execution_count": null,
   "metadata": {},
   "outputs": [],
   "source": []
  }
 ],
 "metadata": {
  "kernelspec": {
   "display_name": "Python 2",
   "language": "python",
   "name": "python2"
  },
  "language_info": {
   "codemirror_mode": {
    "name": "ipython",
    "version": 2
   },
   "file_extension": ".py",
   "mimetype": "text/x-python",
   "name": "python",
   "nbconvert_exporter": "python",
   "pygments_lexer": "ipython2",
   "version": "2.7.15"
  }
 },
 "nbformat": 4,
 "nbformat_minor": 2
}
