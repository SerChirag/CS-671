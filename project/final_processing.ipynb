{
 "cells": [
  {
   "cell_type": "code",
   "execution_count": 1,
   "metadata": {},
   "outputs": [],
   "source": [
    "import pypianoroll as pn\n",
    "import matplotlib.pyplot as plt\n",
    "import numpy as np\n",
    "%matplotlib inline\n",
    "import os\n",
    "os.chdir('transposed/')"
   ]
  },
  {
   "cell_type": "code",
   "execution_count": 2,
   "metadata": {},
   "outputs": [],
   "source": [
    "from os import listdir\n",
    "from os.path import isfile, join\n",
    "onlyfiles = [f for f in listdir('.') if isfile(join('.', f))]"
   ]
  },
  {
   "cell_type": "code",
   "execution_count": 3,
   "metadata": {},
   "outputs": [],
   "source": [
    "popo = {}\n",
    "for i in onlyfiles:\n",
    "    try:\n",
    "        lo = i.split(\"_\")[0]\n",
    "        popo[lo] += 1\n",
    "    except:\n",
    "        popo[lo] = 1\n",
    "        \n",
    "\n",
    "for i in popo:\n",
    "    \n",
    "    if(popo[i] == 1):\n",
    "        command = \"rm \" + str(i) + \"_melody.mid\"\n",
    "        print(command)\n",
    "        os.system(command)\n",
    "        try:\n",
    "            command = \"rm \" + str(i) + \"_melody.mid\"\n",
    "            os.system(command)\n",
    "            command = \"rm \" + str(i) + \"_all.mid\"\n",
    "            os.system(command)\n",
    "        except:\n",
    "            pass"
   ]
  },
  {
   "cell_type": "code",
   "execution_count": 4,
   "metadata": {},
   "outputs": [
    {
     "name": "stdout",
     "output_type": "stream",
     "text": [
      "822\n"
     ]
    }
   ],
   "source": [
    "onlyfiles = [f for f in listdir('.') if isfile(join('.', f))]\n",
    "print(len(onlyfiles))"
   ]
  },
  {
   "cell_type": "code",
   "execution_count": 5,
   "metadata": {},
   "outputs": [
    {
     "name": "stdout",
     "output_type": "stream",
     "text": [
      "146\n",
      "207\n",
      "272\n",
      "314\n",
      "395\n"
     ]
    }
   ],
   "source": [
    "x = []\n",
    "y = []\n",
    "for i in range(1,411):\n",
    "    try:\n",
    "        melo = str(i)+\"_melody.mid\"\n",
    "        alli = str(i)+\"_all.mid\"\n",
    "        a = pn.parse(melo)\n",
    "        b = pn.parse(alli)\n",
    "        leng = a.tracks[0].pianoroll.shape[0]\n",
    "        leni = b.tracks[0].pianoroll.shape[0]\n",
    "#         x.append(1*np.sign(a.tracks[0].pianoroll))\n",
    "#         y.append(1*np.sign(b.tracks[0].pianoroll))\n",
    "        if(leng == leni):\n",
    "#             a.pad(maximum-leng)\n",
    "#             b.pad(maximum-leng)\n",
    "            x.append(1*np.sign(a.tracks[0].pianoroll))\n",
    "            y.append(1*np.sign(b.tracks[0].pianoroll))\n",
    "    except:\n",
    "        print(i)\n",
    "#     print(a.tracks[0].pianoroll.shape,maximum-leng)\n",
    "    "
   ]
  },
  {
   "cell_type": "code",
   "execution_count": 6,
   "metadata": {},
   "outputs": [],
   "source": [
    "x_final = np.array(x)\n",
    "y_final = np.array(y)"
   ]
  },
  {
   "cell_type": "code",
   "execution_count": 7,
   "metadata": {},
   "outputs": [
    {
     "name": "stdout",
     "output_type": "stream",
     "text": [
      "(371,) (371,)\n"
     ]
    }
   ],
   "source": [
    "print(x_final.shape,y_final.shape)"
   ]
  },
  {
   "cell_type": "code",
   "execution_count": 8,
   "metadata": {},
   "outputs": [],
   "source": [
    "os.chdir('..')\n",
    "np.save(\"x_trunc\",x_final)\n",
    "np.save(\"y_trunc\",y_final)"
   ]
  }
 ],
 "metadata": {
  "kernelspec": {
   "display_name": "Python 3",
   "language": "python",
   "name": "python3"
  },
  "language_info": {
   "codemirror_mode": {
    "name": "ipython",
    "version": 3
   },
   "file_extension": ".py",
   "mimetype": "text/x-python",
   "name": "python",
   "nbconvert_exporter": "python",
   "pygments_lexer": "ipython3",
   "version": "3.7.3"
  }
 },
 "nbformat": 4,
 "nbformat_minor": 2
}
